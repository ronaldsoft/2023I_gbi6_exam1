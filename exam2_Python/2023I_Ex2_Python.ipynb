{
 "cells": [
  {
   "attachments": {},
   "cell_type": "markdown",
   "metadata": {
    "id": "CEZHzeOFsfj6"
   },
   "source": [
    "<img src=\"https://eventos.ikiam.edu.ec/event/39/attachments/193/261/Logo_Ikiam_2020.png\" width=300 height=auto />\n",
    "\n",
    "# EXAMEN PARCIAL PYTHON\n",
    "    \n",
    "\n",
    "## GBI6 - BIOINFORMÁTICA\n",
    "\n",
    "**Rivera Carranza, Ronald Javier**\n",
    "\n",
    "**29-06-2023**"
   ]
  },
  {
   "attachments": {},
   "cell_type": "markdown",
   "metadata": {
    "id": "tGwhY7HlsfkC"
   },
   "source": [
    "## Ejercicio 0.1 [0.5 puntos]\n",
    "Realice cambios al cuaderno de jupyter: \n",
    "- Agregue el logo de la Universidad\n",
    "- Coloque sus datos personales \n",
    "- Use el terminal para crear las carpetas `results` y `data`.\n",
    "- - Usaremos el comando: mkdir results/ data/\n",
    "- Use el terminal y mueva `gstm.txt` que tiene un listado de accesiones de glutathione transferase a la carpeta `data`.\n"
   ]
  },
  {
   "attachments": {},
   "cell_type": "markdown",
   "metadata": {
    "id": "zXz2VQ92sfkE"
   },
   "source": [
    "## Ejercicio 1 [4.0 puntos]\n",
    "\n",
    "Cargue el módulo `popsimulate`, luego: \n",
    "\n",
    "1.1. explique lo que hace cada línea de la función `build_population`, simule un ejemplo y explique el resultado. \n",
    "\n",
    "1.2. explique lo que hace cada línea de la función `compute_frequencies`, simule un ejemplo y explique el resultado. \n",
    "\n",
    "1.3. explique lo que hace cada línea de la función `reproduce_population`, simule un ejemplo y explique el resultado. \n",
    "\n",
    "1.4. explique lo que hace cada línea de la función `simulate_drift`, simule un ejemplo y explique el resultado. "
   ]
  },
  {
   "cell_type": "code",
   "execution_count": null,
   "metadata": {
    "id": "6nZuF5_ksfkF"
   },
   "outputs": [],
   "source": [
    "# Código para el ejercicio 1\n",
    "from popsimulate import build_population\n",
    "\n",
    "build_population(N = 10, p = 0.7)\n",
    "\n",
    "# Resultado: [('a', 'A'), ('A', 'a'), ('A', 'a'), ('A', 'A'), ('A', 'A'), ('A', 'A'), ('A', 'A'), ('a', 'a'), ('A', 'A'), ('a', 'A')]"
   ]
  },
  {
   "cell_type": "code",
   "execution_count": null,
   "metadata": {},
   "outputs": [],
   "source": [
    "# Código para el ejercicio 2\n",
    "from popsimulate import compute_frequencies, build_population\n",
    "\n",
    "poblacion = build_population(6, 0.5)\n",
    "poblacion\n",
    "compute_frequencies(poblacion)\n",
    "\n",
    "# Resultado: {'AA': 1, 'aa': 2, 'Aa': 1, 'aA': 2}"
   ]
  },
  {
   "cell_type": "code",
   "execution_count": null,
   "metadata": {},
   "outputs": [],
   "source": [
    "# Código para el ejercicio 3\n",
    "from popsimulate import build_population, reproduce_population\n",
    "\n",
    "poblacion = build_population(6, 0.5)\n",
    "poblacion\n",
    "reproduce_population(poblacion)\n",
    "\n",
    "# Resultado: [('A', 'a'), ('A', 'A'), ('A', 'a'), ('a', 'A'), ('a', 'A'), ('a', 'a')]"
   ]
  },
  {
   "cell_type": "code",
   "execution_count": null,
   "metadata": {},
   "outputs": [],
   "source": [
    "# Código para el ejercicio 4\n",
    "from popsimulate import simulate_drift\n",
    "\n",
    "simulate_drift(100, 0.5)\n",
    "\n",
    "# Resultado: \n",
    "# The genotype counts are\n",
    "# {'AA': 0, 'aa': 100, 'Aa': 0, 'aA': 0}\n",
    "# (79, {'AA': 0, 'aa': 100, 'Aa': 0, 'aA': 0})"
   ]
  },
  {
   "attachments": {},
   "cell_type": "markdown",
   "metadata": {
    "id": "Hs7dXkwxsfkG"
   },
   "source": [
    "## Ejercicio 2 [5.0 puntos]\n",
    "\n",
    "Cree el modulo `glutransferase.py` y genere las siguientes funciones:\n",
    "\n",
    "2.1. `source` que se conecte al `NCBI` y `Nucleotide` para extraer el nombre del organismo fuente y que cuente la frecuencia de cada especie. Guarde el resultado en `results/source.csv`\n",
    "\n",
    "2.2. `sequences` que se conecte al `NCBI` y `Nucleotide` para extraer la secuencia de ADN, que se realice la traducción y separación de péptidos. Asegurarse que los péptidos empiezan en metionina. Luego calcule `molecular weight` e `instability index`. Genere un `joinplot` utilizando los valores de peso molecular e índice de estabilidad. Edite color, tamaño y tipo de puntos, asimismo etiquete adecuadamente el título y los ejes. Guarde los resultados en `results/glupeptides.csv` y `results/glupeptides.png`.\n",
    "\n",
    "**No escriba las funciones en este cuaderno de jupyter**\n",
    "\n",
    "2.3. Use la lista de accesiones en `data/gstm.txt`, cargue el módulo `glutransferase` y ejecute las dos funciones. "
   ]
  },
  {
   "cell_type": "code",
   "execution_count": null,
   "metadata": {
    "id": "AG42g3o2sfkJ"
   },
   "outputs": [],
   "source": [
    "# Escriba aquí su código para el ejercicio 2.1\n",
    "from glutransferase import fetch_sequence_info,count_species, save_results\n",
    "\n",
    "# Obtener información de las secuencias\n",
    "sequence_info = fetch_sequence_info('Ilex guayusa','ronald.rivera@est.ikiam.edu.ec')\n",
    "\n",
    "# Contar la frecuencia de cada especie\n",
    "species_count = count_species(sequence_info)\n",
    "\n",
    "# Guardar los resultados en un archivo CSV\n",
    "save_results(sequence_info, species_count, 'results/source.csv')\n",
    "\n",
    "# Resultado en la carpeta results"
   ]
  },
  {
   "cell_type": "code",
   "execution_count": 25,
   "metadata": {},
   "outputs": [
    {
     "name": "stderr",
     "output_type": "stream",
     "text": [
      "/Users/ussenterprise/anaconda3/lib/python3.10/site-packages/Bio/Seq.py:2804: BiopythonWarning: Partial codon, len(sequence) not a multiple of three. Explicitly trim the sequence or add trailing N before translation. This may become an error in future.\n",
      "  warnings.warn(\n"
     ]
    },
    {
     "data": {
      "image/png": "[encoded data removed]",
      "text/plain": [
       "<Figure size 600x600 with 3 Axes>"
      ]
     },
     "metadata": {},
     "output_type": "display_data"
    }
   ],
   "source": [
    "# Escriba aquí su código para el ejercicio 2.2\n",
    "from glutransferase import fetch_sequences, translate_sequences, calculate_properties, generate_plot, save_results_filter\n",
    "\n",
    "# Obtener las secuencias de ADN\n",
    "sequences = fetch_sequences('Vanilla','ronald.rivera@est.ikiam.edu.ec')\n",
    "\n",
    "# Traducción de las secuencias a péptidos\n",
    "peptides = translate_sequences(sequences)\n",
    "\n",
    "# Calcular el peso molecular de los péptidos\n",
    "weights = calculate_properties(peptides)\n",
    "\n",
    "# Generar el gráfico de dispersión\n",
    "generate_plot(weights, 'results/glupeptides.png')\n",
    "\n",
    "# Guardar los resultados en un archivo CSV\n",
    "save_results_filter(weights,'results/glupeptides.csv')"
   ]
  },
  {
   "cell_type": "code",
   "execution_count": null,
   "metadata": {},
   "outputs": [],
   "source": [
    "# Escriba aquí su código para el ejercicio 2.2\n",
    "from glutransferase import fetch_file_secuences, translate_sequences, calculate_properties, generate_plot, save_results_filter\n",
    "\n",
    "file_path = 'data/gstm.txt'\n",
    "\n",
    "# llamar una secuencia de archivos\n",
    "sequences = fetch_file_secuences(file_path,'ronald.rivera@est.ikiam.edu.ec')\n",
    "\n",
    "# Traducción de las secuencias a péptidos\n",
    "peptides = translate_sequences(sequences)\n",
    "\n",
    "# Calcular el peso molecular de los péptidos\n",
    "weights = calculate_properties(peptides)\n",
    "\n",
    "# Generar el gráfico de dispersión\n",
    "generate_plot(weights, 'results/glupeptides.png')\n",
    "\n",
    "# Guardar los resultados en un archivo CSV\n",
    "save_results_filter(weights,'results/glupeptides.csv')\n"
   ]
  },
  {
   "attachments": {},
   "cell_type": "markdown",
   "metadata": {
    "id": "-MaHCuV8sfkP"
   },
   "source": [
    "## Ejercicio 0.2 [0.5 puntos]\n",
    "\n",
    "\n",
    "1. Cree un archivo ```Readme.md``` que debe tener lo siguiente:\n",
    "- Datos personales\n",
    "- Características del computador\n",
    "- Versión de Python/Anaconda y de cada uno de los módulos/paquetes y utilizados\n",
    "- Explicación de la data utilizada\n",
    "\n",
    "2. Realice al menos 1 control de la versión (commits) por cada ejercicio (del 1 al 5), con un mensaje que inicie como: \n",
    "\n",
    "```sh \n",
    "Carlitos Alimaña ha realizado el ejercicio 1.1  \n",
    "```\n",
    "```sh \n",
    "Carlitos Alimaña ha realizado el ejercicio 2.1\n",
    "```\n",
    "```sh \n",
    "...\n",
    "```\n"
   ]
  },
  {
   "attachments": {},
   "cell_type": "markdown",
   "metadata": {},
   "source": [
    "## Detalles\n",
    "### Características del computador\n",
    "Model Name: MacBook Air\n",
    "Model Identifier: Mac14,2\n",
    "Model Number: FLY33LL/A\n",
    "Chip: Apple M2\n",
    "Total Number of Cores: 8 (4 performance and 4 efficiency)\n",
    "Memory: 8 GB\n",
    "System Firmware Version: 8419.80.7\n",
    "OS Loader Version: 8419.80.7\n",
    "\n",
    "### Requerimientos\n",
    "- Python 3.10.11\n",
    "- bio>=1.5.9\n",
    "- numpy>=1.28.0\n",
    "- pandas>=2.0.3\n",
    "- seaborn>=0.12.2\n",
    "- matplotlib>=3.7.1\n",
    "\n",
    "### Datos\n",
    "- NCBI\n",
    "\n",
    "### Evidencia\n",
    "- Video link:"
   ]
  }
 ],
 "metadata": {
  "colab": {
   "provenance": []
  },
  "kernelspec": {
   "display_name": "Python 3 (ipykernel)",
   "language": "python",
   "name": "python3"
  },
  "language_info": {
   "codemirror_mode": {
    "name": "ipython",
    "version": 3
   },
   "file_extension": ".py",
   "mimetype": "text/x-python",
   "name": "python",
   "nbconvert_exporter": "python",
   "pygments_lexer": "ipython3",
   "version": "3.10.11"
  },
  "latex_envs": {
   "LaTeX_envs_menu_present": true,
   "autoclose": false,
   "autocomplete": true,
   "bibliofile": "biblio.bib",
   "cite_by": "apalike",
   "current_citInitial": 1,
   "eqLabelWithNumbers": true,
   "eqNumInitial": 1,
   "hotkeys": {
    "equation": "Ctrl-E",
    "itemize": "Ctrl-I"
   },
   "labels_anchors": false,
   "latex_user_defs": false,
   "report_style_numbering": false,
   "user_envs_cfg": false
  },
  "toc": {
   "base_numbering": 1,
   "nav_menu": {},
   "number_sections": true,
   "sideBar": false,
   "skip_h1_title": false,
   "title_cell": "Table of Contents",
   "title_sidebar": "Contents",
   "toc_cell": false,
   "toc_position": {
    "height": "1152.67px",
    "left": "41px",
    "top": "110px",
    "width": "253.458px"
   },
   "toc_section_display": true,
   "toc_window_display": false
  },
  "varInspector": {
   "cols": {
    "lenName": 16,
    "lenType": 16,
    "lenVar": 40
   },
   "kernels_config": {
    "python": {
     "delete_cmd_postfix": "",
     "delete_cmd_prefix": "del ",
     "library": "var_list.py",
     "varRefreshCmd": "print(var_dic_list())"
    },
    "r": {
     "delete_cmd_postfix": ") ",
     "delete_cmd_prefix": "rm(",
     "library": "var_list.r",
     "varRefreshCmd": "cat(var_dic_list()) "
    }
   },
   "types_to_exclude": [
    "module",
    "function",
    "builtin_function_or_method",
    "instance",
    "_Feature"
   ],
   "window_display": false
  }
 },
 "nbformat": 4,
 "nbformat_minor": 1
}
